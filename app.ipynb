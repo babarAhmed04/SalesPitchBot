{
 "cells": [
  {
   "cell_type": "code",
   "execution_count": 1,
   "metadata": {},
   "outputs": [],
   "source": [
    "import streamlit as st\n",
    "from langchain_community.document_loaders import PyPDFLoader, PyPDFDirectoryLoader, DirectoryLoader, TextLoader\n",
    "from langchain_community.embeddings import OllamaEmbeddings\n",
    "from langchain.text_splitter import RecursiveCharacterTextSplitter\n",
    "from langchain.chains.combine_documents import create_stuff_documents_chain\n",
    "from langchain_core.prompts import ChatPromptTemplate\n",
    "from langchain.chains import create_retrieval_chain\n",
    "from langchain_community.vectorstores import FAISS\n",
    "from langchain_community.llms import Ollama"
   ]
  },
  {
   "cell_type": "code",
   "execution_count": 2,
   "metadata": {},
   "outputs": [],
   "source": [
    "drive_folder = \"./data/Deal Details\""
   ]
  },
  {
   "cell_type": "code",
   "execution_count": 3,
   "metadata": {},
   "outputs": [
    {
     "name": "stderr",
     "output_type": "stream",
     "text": [
      "100%|██████████| 5/5 [00:00<00:00, 5005.14it/s]"
     ]
    },
    {
     "name": "stdout",
     "output_type": "stream",
     "text": [
      "[Document(page_content='{\\n\"DealId\": \"DS-001\",\\n\"Product\": \"High-Performance Servers\",\\n\"Pricing\": \"$50,000\",\\n\"Discounts\": \"10%\",\\n\"Total Sale\": \"$45,000\"\\n}', metadata={'source': 'data\\\\Deal Details\\\\Ds-001.json'}), Document(page_content='{\\n\"DealId\": \"DS-002\",\\n\"Product\": \"Customized Storage Solutions\",\\n\"Pricing\": \"$75,000\",\\n\"Discounts\": \"15%\",\\n\"Total Sale\": \"$63,750\"\\n}', metadata={'source': 'data\\\\Deal Details\\\\Ds-002.json'}), Document(page_content='{\\n\"DealId\": \"DS-003\",\\n\"Product\": \"High-Performance Computing Infrastructure\",\\n\"Pricing\": \"$100,000\",\\n\"Discounts\": \"12%\",\\n\"Total Sale\": \"$88,000\"\\n}', metadata={'source': 'data\\\\Deal Details\\\\Ds-003.json'}), Document(page_content='{\\n\"DealId\": \"DS-004\",\\n\"Product\": \"Customized Solution for Data Analytics\",\\n\"Pricing\": \"$125,000\",\\n\"Discounts\": \"18%\",\\n\"Total Sale\": \"$103,750\"\\n}', metadata={'source': 'data\\\\Deal Details\\\\Ds-004.json'}), Document(page_content='{\\n\"DealId\": \"DS-005\",\\n\"Product\": \"High-Performance Computing Hardware\",\\n\"Pricing\": \"$150,000\",\\n\"Discounts\": \"20%\",\\n\"Total Sale\": \"$120,000\"\\n}', metadata={'source': 'data\\\\Deal Details\\\\Ds-005.json'})]\n"
     ]
    },
    {
     "name": "stderr",
     "output_type": "stream",
     "text": [
      "\n"
     ]
    }
   ],
   "source": [
    "loader = DirectoryLoader(drive_folder, glob='**/*.json', show_progress=True, loader_cls=TextLoader)\n",
    "json_docs = loader.load()\n",
    "print(json_docs)"
   ]
  },
  {
   "cell_type": "code",
   "execution_count": 5,
   "metadata": {},
   "outputs": [
    {
     "name": "stdout",
     "output_type": "stream",
     "text": [
      "[Document(page_content='', metadata={'source': 'data\\\\Case Studies\\\\DS-001 Case Study_ NovaTech Corporation.pdf', 'page': 0}), Document(page_content='', metadata={'source': 'data\\\\Case Studies\\\\DS-002 Case Study_EcoCycle Recycling.pdf', 'page': 0}), Document(page_content='', metadata={'source': 'data\\\\Case Studies\\\\DS-003 Case Study_Proxima Solutions.pdf', 'page': 0}), Document(page_content='', metadata={'source': 'data\\\\Case Studies\\\\DS-004 Case Study_BioSpark Biotechnology.pdf', 'page': 0}), Document(page_content='', metadata={'source': 'data\\\\Case Studies\\\\DS-005 Case Study_SmartHome Realty.pdf', 'page': 0})]\n"
     ]
    }
   ],
   "source": [
    "loader = PyPDFDirectoryLoader(\"./data/Case Studies\")\n",
    "cs_docs = loader.load()\n",
    "print(cs_docs[0:5])"
   ]
  },
  {
   "cell_type": "code",
   "execution_count": 5,
   "metadata": {},
   "outputs": [
    {
     "name": "stdout",
     "output_type": "stream",
     "text": [
      "[Document(page_content='', metadata={'source': 'data\\\\Sales Pitch\\\\DS-001 Sales Pitch for NovaTech Corporation.pdf', 'page': 0}), Document(page_content='', metadata={'source': 'data\\\\Sales Pitch\\\\DS-002 Sales Pitch for EcoCycle Recycling.pdf', 'page': 0}), Document(page_content='', metadata={'source': 'data\\\\Sales Pitch\\\\DS-003 Sales Pitch for Proxima Solutions.pdf', 'page': 0}), Document(page_content='', metadata={'source': 'data\\\\Sales Pitch\\\\DS-004 Sales Pitch for BioSpark Biotechnology.pdf', 'page': 0}), Document(page_content='', metadata={'source': 'data\\\\Sales Pitch\\\\DS-005 Sales Pitch for SmartHome Realty.pdf', 'page': 0})]\n"
     ]
    }
   ],
   "source": [
    "loader = PyPDFDirectoryLoader(\"./data/Sales Pitch\")\n",
    "pitch_docs = loader.load()\n",
    "print(pitch_docs)"
   ]
  },
  {
   "cell_type": "code",
   "execution_count": 6,
   "metadata": {},
   "outputs": [
    {
     "name": "stdout",
     "output_type": "stream",
     "text": [
      "[Document(page_content='{\\n\"DealId\": \"DS-001\",\\n\"Product\": \"High-Performance Servers\",\\n\"Pricing\": \"$50,000\",\\n\"Discounts\": \"10%\",\\n\"Total Sale\": \"$45,000\"\\n}', metadata={'source': 'data\\\\Deal Details\\\\Ds-001.json'}), Document(page_content='{\\n\"DealId\": \"DS-002\",\\n\"Product\": \"Customized Storage Solutions\",\\n\"Pricing\": \"$75,000\",\\n\"Discounts\": \"15%\",\\n\"Total Sale\": \"$63,750\"\\n}', metadata={'source': 'data\\\\Deal Details\\\\Ds-002.json'}), Document(page_content='{\\n\"DealId\": \"DS-003\",\\n\"Product\": \"High-Performance Computing Infrastructure\",\\n\"Pricing\": \"$100,000\",\\n\"Discounts\": \"12%\",\\n\"Total Sale\": \"$88,000\"\\n}', metadata={'source': 'data\\\\Deal Details\\\\Ds-003.json'}), Document(page_content='{\\n\"DealId\": \"DS-004\",\\n\"Product\": \"Customized Solution for Data Analytics\",\\n\"Pricing\": \"$125,000\",\\n\"Discounts\": \"18%\",\\n\"Total Sale\": \"$103,750\"\\n}', metadata={'source': 'data\\\\Deal Details\\\\Ds-004.json'}), Document(page_content='{\\n\"DealId\": \"DS-005\",\\n\"Product\": \"High-Performance Computing Hardware\",\\n\"Pricing\": \"$150,000\",\\n\"Discounts\": \"20%\",\\n\"Total Sale\": \"$120,000\"\\n}', metadata={'source': 'data\\\\Deal Details\\\\Ds-005.json'}), Document(page_content='', metadata={'source': 'data\\\\Case Studies\\\\DS-001 Case Study_ NovaTech Corporation.pdf', 'page': 0}), Document(page_content='', metadata={'source': 'data\\\\Case Studies\\\\DS-002 Case Study_EcoCycle Recycling.pdf', 'page': 0}), Document(page_content='', metadata={'source': 'data\\\\Case Studies\\\\DS-003 Case Study_Proxima Solutions.pdf', 'page': 0}), Document(page_content='', metadata={'source': 'data\\\\Case Studies\\\\DS-004 Case Study_BioSpark Biotechnology.pdf', 'page': 0}), Document(page_content='', metadata={'source': 'data\\\\Case Studies\\\\DS-005 Case Study_SmartHome Realty.pdf', 'page': 0}), Document(page_content='', metadata={'source': 'data\\\\Sales Pitch\\\\DS-001 Sales Pitch for NovaTech Corporation.pdf', 'page': 0}), Document(page_content='', metadata={'source': 'data\\\\Sales Pitch\\\\DS-002 Sales Pitch for EcoCycle Recycling.pdf', 'page': 0}), Document(page_content='', metadata={'source': 'data\\\\Sales Pitch\\\\DS-003 Sales Pitch for Proxima Solutions.pdf', 'page': 0}), Document(page_content='', metadata={'source': 'data\\\\Sales Pitch\\\\DS-004 Sales Pitch for BioSpark Biotechnology.pdf', 'page': 0}), Document(page_content='', metadata={'source': 'data\\\\Sales Pitch\\\\DS-005 Sales Pitch for SmartHome Realty.pdf', 'page': 0})]\n"
     ]
    }
   ],
   "source": [
    "all_docs = json_docs + cs_docs + pitch_docs\n",
    "print(all_docs)"
   ]
  },
  {
   "cell_type": "code",
   "execution_count": 7,
   "metadata": {},
   "outputs": [
    {
     "data": {
      "text/plain": [
       "[Document(page_content='{\\n\"DealId\": \"DS-001\",\\n\"Product\": \"High-Performance Servers\",\\n\"Pricing\": \"$50,000\",\\n\"Discounts\": \"10%\",\\n\"Total Sale\": \"$45,000\"\\n}', metadata={'source': 'data\\\\Deal Details\\\\Ds-001.json'}),\n",
       " Document(page_content='{\\n\"DealId\": \"DS-002\",\\n\"Product\": \"Customized Storage Solutions\",\\n\"Pricing\": \"$75,000\",\\n\"Discounts\": \"15%\",\\n\"Total Sale\": \"$63,750\"\\n}', metadata={'source': 'data\\\\Deal Details\\\\Ds-002.json'}),\n",
       " Document(page_content='{\\n\"DealId\": \"DS-003\",\\n\"Product\": \"High-Performance Computing Infrastructure\",\\n\"Pricing\": \"$100,000\",\\n\"Discounts\": \"12%\",\\n\"Total Sale\": \"$88,000\"\\n}', metadata={'source': 'data\\\\Deal Details\\\\Ds-003.json'}),\n",
       " Document(page_content='{\\n\"DealId\": \"DS-004\",\\n\"Product\": \"Customized Solution for Data Analytics\",\\n\"Pricing\": \"$125,000\",\\n\"Discounts\": \"18%\",\\n\"Total Sale\": \"$103,750\"\\n}', metadata={'source': 'data\\\\Deal Details\\\\Ds-004.json'}),\n",
       " Document(page_content='{\\n\"DealId\": \"DS-005\",\\n\"Product\": \"High-Performance Computing Hardware\",\\n\"Pricing\": \"$150,000\",\\n\"Discounts\": \"20%\",\\n\"Total Sale\": \"$120,000\"\\n}', metadata={'source': 'data\\\\Deal Details\\\\Ds-005.json'})]"
      ]
     },
     "execution_count": 7,
     "metadata": {},
     "output_type": "execute_result"
    }
   ],
   "source": [
    "text_splitter = RecursiveCharacterTextSplitter(chunk_size=1000, chunk_overlap=200)\n",
    "final_documents = text_splitter.split_documents(all_docs)\n",
    "final_documents[0:5]"
   ]
  },
  {
   "cell_type": "code",
   "execution_count": 19,
   "metadata": {},
   "outputs": [],
   "source": [
    "vectordb=FAISS.from_documents(final_documents, OllamaEmbeddings())"
   ]
  },
  {
   "cell_type": "code",
   "execution_count": 21,
   "metadata": {},
   "outputs": [
    {
     "data": {
      "text/plain": [
       "Ollama()"
      ]
     },
     "execution_count": 21,
     "metadata": {},
     "output_type": "execute_result"
    }
   ],
   "source": [
    "llm=Ollama(model=\"llama2\")\n",
    "llm"
   ]
  },
  {
   "cell_type": "code",
   "execution_count": 22,
   "metadata": {},
   "outputs": [],
   "source": [
    "prompt=ChatPromptTemplate.from_template(\"\"\"\n",
    "You are a very Successful Sales executive. Your job is to provide an exceptional sales pitches based on user query. If you are unable to get the context, do not make up an answer, reply with the following statement \"Unable to generate pitch\"\n",
    "<context>\n",
    "{context}\n",
    "</context>\n",
    "Question: {input}\"\"\")"
   ]
  },
  {
   "cell_type": "code",
   "execution_count": 23,
   "metadata": {},
   "outputs": [],
   "source": [
    "document_chain = create_stuff_documents_chain(llm,prompt)"
   ]
  },
  {
   "cell_type": "code",
   "execution_count": 24,
   "metadata": {},
   "outputs": [
    {
     "data": {
      "text/plain": [
       "VectorStoreRetriever(tags=['FAISS', 'OllamaEmbeddings'], vectorstore=<langchain_community.vectorstores.faiss.FAISS object at 0x00000191758754E0>)"
      ]
     },
     "execution_count": 24,
     "metadata": {},
     "output_type": "execute_result"
    }
   ],
   "source": [
    "retriever=vectordb.as_retriever()\n",
    "retriever"
   ]
  },
  {
   "cell_type": "code",
   "execution_count": 28,
   "metadata": {},
   "outputs": [
    {
     "data": {
      "text/plain": [
       "'Absolutely! As a successful sales executive, I would be happy to help you craft an exceptional sales pitch for your servers and customized solutions. Based on the context provided, here\\'s a pitch that could potentially resonate with SmartHome Realty:\\n\\n\"Thank you for considering our high-performance servers and customized solutions. We understand that SmartHome Realty is looking to upgrade its existing systems, and we believe that our products can help streamline your operations and increase efficiency.\\n\\nOur servers are designed to handle the most demanding workloads with ease, providing the fastest processing times and largest memory capacities in the market. With a price of $50,000, you\\'ll be getting an exceptional value for your money. Plus, with a 10% discount, you can save even more on your purchase.\\n\\nBut that\\'s not all. Our customized solutions are tailored to meet the unique needs of your business. Whether it\\'s data analytics, cloud computing, or something else entirely, we can work with you to create a solution that perfectly fits your requirements. And with a 15% discount, you can get even more value from our customized offerings.\\n\\nAt [Company Name], we\\'re committed to delivering exceptional results for our clients. Our team of experts has years of experience in the industry, and we\\'re dedicated to helping you achieve your goals. With our high-performance servers and customized solutions, you can rest assured that your business is in good hands.\\n\\nSo why wait? Let\\'s work together to take your business to the next level. Are you ready to upgrade your existing systems and experience the difference for yourself? Please let me know if you have any questions or would like to discuss further.\"\\n\\nI hope this pitch helps! Remember, the key is to highlight the value that our products can bring to SmartHome Realty while also addressing their specific needs and concerns.'"
      ]
     },
     "execution_count": 28,
     "metadata": {},
     "output_type": "execute_result"
    }
   ],
   "source": [
    "retrieval_chain = create_retrieval_chain(retriever,document_chain)\n",
    "response = retrieval_chain.invoke({\"input\":\"I want to expand our sales for servers and SmartHome Realty wants to upgrade its existing systems. Help me with a pitch\"})\n",
    "response['answer']"
   ]
  },
  {
   "cell_type": "code",
   "execution_count": null,
   "metadata": {},
   "outputs": [],
   "source": []
  }
 ],
 "metadata": {
  "kernelspec": {
   "display_name": "Python 3",
   "language": "python",
   "name": "python3"
  },
  "language_info": {
   "codemirror_mode": {
    "name": "ipython",
    "version": 3
   },
   "file_extension": ".py",
   "mimetype": "text/x-python",
   "name": "python",
   "nbconvert_exporter": "python",
   "pygments_lexer": "ipython3",
   "version": "3.10.0"
  }
 },
 "nbformat": 4,
 "nbformat_minor": 2
}
